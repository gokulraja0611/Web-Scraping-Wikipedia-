{
  "nbformat": 4,
  "nbformat_minor": 0,
  "metadata": {
    "colab": {
      "name": "Web Scraping(Wikipedia).ipynb",
      "provenance": [],
      "collapsed_sections": []
    },
    "kernelspec": {
      "name": "python3",
      "display_name": "Python 3"
    },
    "language_info": {
      "name": "python"
    }
  },
  "cells": [
    {
      "cell_type": "code",
      "metadata": {
        "id": "LsKWacGd3zmA"
      },
      "source": [
        "# NumPy\n",
        "import numpy as np\n",
        "# Pandas\n",
        "import pandas as pd\n",
        "# Matplotlib\n",
        "import matplotlib.pyplot as plt\n",
        "# BeautifulSoup\n",
        "from bs4 import BeautifulSoup\n",
        "# Request\n",
        "import requests\n",
        "# RegEX\n",
        "import re"
      ],
      "execution_count": 1,
      "outputs": []
    },
    {
      "cell_type": "code",
      "metadata": {
        "id": "ROamJVOt35lJ"
      },
      "source": [
        "#Getting the url \n",
        "url = \"https://en.wikipedia.org/wiki/List_of_Academy_Award-winning_films\"\n",
        "req = requests.get(url)"
      ],
      "execution_count": 2,
      "outputs": []
    },
    {
      "cell_type": "code",
      "metadata": {
        "colab": {
          "base_uri": "https://localhost:8080/"
        },
        "id": "_aLFwtuE3-gR",
        "outputId": "1adda20e-308c-45ed-d4c7-f509d853c7fd"
      },
      "source": [
        "#Checking the status\n",
        "req"
      ],
      "execution_count": 3,
      "outputs": [
        {
          "output_type": "execute_result",
          "data": {
            "text/plain": [
              "<Response [200]>"
            ]
          },
          "metadata": {
            "tags": []
          },
          "execution_count": 3
        }
      ]
    },
    {
      "cell_type": "code",
      "metadata": {
        "id": "KAN4jsOu3-iK"
      },
      "source": [
        "#Getting the content\n",
        "soup = BeautifulSoup(req.content)"
      ],
      "execution_count": 5,
      "outputs": []
    },
    {
      "cell_type": "markdown",
      "metadata": {
        "id": "gTz68gl4IhTr"
      },
      "source": [
        "\n",
        "\n",
        "##DATA CLEANING\n"
      ]
    },
    {
      "cell_type": "code",
      "metadata": {
        "id": "CRZeBjud3-mo"
      },
      "source": [
        "Film = []\n",
        "Year =[]\n",
        "Award = []\n",
        "Nomination = []\n",
        "count = 0\n",
        "for i in soup.findAll('td'):\n",
        "  i = re.sub('^<td>.*\">|<td>|</td>|<.*>|\\n',\"\",str(i))\n",
        "  if count == 0:\n",
        "    Film.append(i)\n",
        "    count += 1\n",
        "  elif count == 1:\n",
        "    Year.append(i)\n",
        "    count += 1\n",
        "  elif count == 2:\n",
        "    Award.append(i)\n",
        "    count += 1\n",
        "  else:\n",
        "    count = 0\n",
        "    Nomination.append(i)"
      ],
      "execution_count": 8,
      "outputs": []
    },
    {
      "cell_type": "code",
      "metadata": {
        "colab": {
          "base_uri": "https://localhost:8080/",
          "height": 424
        },
        "id": "W_noo-eH3-ot",
        "outputId": "533bba98-cd50-4d6f-8f77-1987325a5c37"
      },
      "source": [
        "\n",
        "df = pd.DataFrame({\"Film\":Film[:1332], \"Years\":Year[:1332], \"Awards\":Award[:1332], \"Nominations\":Nomination[:1332]})\n",
        "df"
      ],
      "execution_count": 10,
      "outputs": [
        {
          "output_type": "execute_result",
          "data": {
            "text/html": [
              "<div>\n",
              "<style scoped>\n",
              "    .dataframe tbody tr th:only-of-type {\n",
              "        vertical-align: middle;\n",
              "    }\n",
              "\n",
              "    .dataframe tbody tr th {\n",
              "        vertical-align: top;\n",
              "    }\n",
              "\n",
              "    .dataframe thead th {\n",
              "        text-align: right;\n",
              "    }\n",
              "</style>\n",
              "<table border=\"1\" class=\"dataframe\">\n",
              "  <thead>\n",
              "    <tr style=\"text-align: right;\">\n",
              "      <th></th>\n",
              "      <th>Film</th>\n",
              "      <th>Years</th>\n",
              "      <th>Awards</th>\n",
              "      <th>Nominations</th>\n",
              "    </tr>\n",
              "  </thead>\n",
              "  <tbody>\n",
              "    <tr>\n",
              "      <th>0</th>\n",
              "      <td>Nomadland</td>\n",
              "      <td>21</td>\n",
              "      <td>3</td>\n",
              "      <td>6</td>\n",
              "    </tr>\n",
              "    <tr>\n",
              "      <th>1</th>\n",
              "      <td>The Father</td>\n",
              "      <td>21</td>\n",
              "      <td>2</td>\n",
              "      <td>6</td>\n",
              "    </tr>\n",
              "    <tr>\n",
              "      <th>2</th>\n",
              "      <td>Judas and the Black Messiah</td>\n",
              "      <td>21</td>\n",
              "      <td>2</td>\n",
              "      <td>6</td>\n",
              "    </tr>\n",
              "    <tr>\n",
              "      <th>3</th>\n",
              "      <td>Minari</td>\n",
              "      <td>21</td>\n",
              "      <td>1</td>\n",
              "      <td>6</td>\n",
              "    </tr>\n",
              "    <tr>\n",
              "      <th>4</th>\n",
              "      <td>Mank</td>\n",
              "      <td>21</td>\n",
              "      <td>2</td>\n",
              "      <td>10</td>\n",
              "    </tr>\n",
              "    <tr>\n",
              "      <th>...</th>\n",
              "      <td>...</td>\n",
              "      <td>...</td>\n",
              "      <td>...</td>\n",
              "      <td>...</td>\n",
              "    </tr>\n",
              "    <tr>\n",
              "      <th>1327</th>\n",
              "      <td>The Yankee Doodle Mouse</td>\n",
              "      <td>1943</td>\n",
              "      <td>1</td>\n",
              "      <td>1</td>\n",
              "    </tr>\n",
              "    <tr>\n",
              "      <th>1328</th>\n",
              "      <td>The Yearling</td>\n",
              "      <td>1946</td>\n",
              "      <td>2</td>\n",
              "      <td>7</td>\n",
              "    </tr>\n",
              "    <tr>\n",
              "      <th>1329</th>\n",
              "      <td>Yesterday, Today and Tomorrow</td>\n",
              "      <td>1964</td>\n",
              "      <td>1</td>\n",
              "      <td>1</td>\n",
              "    </tr>\n",
              "    <tr>\n",
              "      <th>1330</th>\n",
              "      <td>You Can't Take It with You</td>\n",
              "      <td>1938</td>\n",
              "      <td>2</td>\n",
              "      <td>7</td>\n",
              "    </tr>\n",
              "    <tr>\n",
              "      <th>1331</th>\n",
              "      <td>Zorba the Greek</td>\n",
              "      <td>1964</td>\n",
              "      <td>3</td>\n",
              "      <td>7</td>\n",
              "    </tr>\n",
              "  </tbody>\n",
              "</table>\n",
              "<p>1332 rows × 4 columns</p>\n",
              "</div>"
            ],
            "text/plain": [
              "                               Film Years Awards Nominations\n",
              "0                         Nomadland    21      3           6\n",
              "1                        The Father    21      2           6\n",
              "2       Judas and the Black Messiah    21      2           6\n",
              "3                            Minari    21      1           6\n",
              "4                              Mank    21      2          10\n",
              "...                             ...   ...    ...         ...\n",
              "1327        The Yankee Doodle Mouse  1943      1           1\n",
              "1328                   The Yearling  1946      2           7\n",
              "1329  Yesterday, Today and Tomorrow  1964      1           1\n",
              "1330     You Can't Take It with You  1938      2           7\n",
              "1331                Zorba the Greek  1964      3           7\n",
              "\n",
              "[1332 rows x 4 columns]"
            ]
          },
          "metadata": {
            "tags": []
          },
          "execution_count": 10
        }
      ]
    },
    {
      "cell_type": "code",
      "metadata": {
        "colab": {
          "base_uri": "https://localhost:8080/",
          "height": 363
        },
        "id": "pE-UzNfPJq3Z",
        "outputId": "614e062c-2a33-47ec-b32d-614c8808cc65"
      },
      "source": [
        "df.head(10)"
      ],
      "execution_count": 15,
      "outputs": [
        {
          "output_type": "execute_result",
          "data": {
            "text/html": [
              "<div>\n",
              "<style scoped>\n",
              "    .dataframe tbody tr th:only-of-type {\n",
              "        vertical-align: middle;\n",
              "    }\n",
              "\n",
              "    .dataframe tbody tr th {\n",
              "        vertical-align: top;\n",
              "    }\n",
              "\n",
              "    .dataframe thead th {\n",
              "        text-align: right;\n",
              "    }\n",
              "</style>\n",
              "<table border=\"1\" class=\"dataframe\">\n",
              "  <thead>\n",
              "    <tr style=\"text-align: right;\">\n",
              "      <th></th>\n",
              "      <th>Film</th>\n",
              "      <th>Years</th>\n",
              "      <th>Awards</th>\n",
              "      <th>Nominations</th>\n",
              "    </tr>\n",
              "  </thead>\n",
              "  <tbody>\n",
              "    <tr>\n",
              "      <th>0</th>\n",
              "      <td>Nomadland</td>\n",
              "      <td>21</td>\n",
              "      <td>3</td>\n",
              "      <td>6</td>\n",
              "    </tr>\n",
              "    <tr>\n",
              "      <th>1</th>\n",
              "      <td>The Father</td>\n",
              "      <td>21</td>\n",
              "      <td>2</td>\n",
              "      <td>6</td>\n",
              "    </tr>\n",
              "    <tr>\n",
              "      <th>2</th>\n",
              "      <td>Judas and the Black Messiah</td>\n",
              "      <td>21</td>\n",
              "      <td>2</td>\n",
              "      <td>6</td>\n",
              "    </tr>\n",
              "    <tr>\n",
              "      <th>3</th>\n",
              "      <td>Minari</td>\n",
              "      <td>21</td>\n",
              "      <td>1</td>\n",
              "      <td>6</td>\n",
              "    </tr>\n",
              "    <tr>\n",
              "      <th>4</th>\n",
              "      <td>Mank</td>\n",
              "      <td>21</td>\n",
              "      <td>2</td>\n",
              "      <td>10</td>\n",
              "    </tr>\n",
              "    <tr>\n",
              "      <th>5</th>\n",
              "      <td>Sound of Metal</td>\n",
              "      <td>21</td>\n",
              "      <td>2</td>\n",
              "      <td>6</td>\n",
              "    </tr>\n",
              "    <tr>\n",
              "      <th>6</th>\n",
              "      <td>Ma Rainey's Black Bottom</td>\n",
              "      <td>21</td>\n",
              "      <td>2</td>\n",
              "      <td>5</td>\n",
              "    </tr>\n",
              "    <tr>\n",
              "      <th>7</th>\n",
              "      <td>Promising Young Woman</td>\n",
              "      <td>21</td>\n",
              "      <td>1</td>\n",
              "      <td>5</td>\n",
              "    </tr>\n",
              "    <tr>\n",
              "      <th>8</th>\n",
              "      <td>Tenet</td>\n",
              "      <td>21</td>\n",
              "      <td>1</td>\n",
              "      <td>2</td>\n",
              "    </tr>\n",
              "    <tr>\n",
              "      <th>9</th>\n",
              "      <td>Soul</td>\n",
              "      <td>21</td>\n",
              "      <td>2</td>\n",
              "      <td>3</td>\n",
              "    </tr>\n",
              "  </tbody>\n",
              "</table>\n",
              "</div>"
            ],
            "text/plain": [
              "                          Film Years Awards Nominations\n",
              "0                    Nomadland    21      3           6\n",
              "1                   The Father    21      2           6\n",
              "2  Judas and the Black Messiah    21      2           6\n",
              "3                       Minari    21      1           6\n",
              "4                         Mank    21      2          10\n",
              "5               Sound of Metal    21      2           6\n",
              "6     Ma Rainey's Black Bottom    21      2           5\n",
              "7        Promising Young Woman    21      1           5\n",
              "8                        Tenet    21      1           2\n",
              "9                         Soul    21      2           3"
            ]
          },
          "metadata": {
            "tags": []
          },
          "execution_count": 15
        }
      ]
    },
    {
      "cell_type": "code",
      "metadata": {
        "colab": {
          "base_uri": "https://localhost:8080/",
          "height": 363
        },
        "id": "6RaCgTpGJtY4",
        "outputId": "1bbd97e1-b055-4255-c2c5-d6cb5db63f1f"
      },
      "source": [
        "df.tail(10)"
      ],
      "execution_count": 16,
      "outputs": [
        {
          "output_type": "execute_result",
          "data": {
            "text/html": [
              "<div>\n",
              "<style scoped>\n",
              "    .dataframe tbody tr th:only-of-type {\n",
              "        vertical-align: middle;\n",
              "    }\n",
              "\n",
              "    .dataframe tbody tr th {\n",
              "        vertical-align: top;\n",
              "    }\n",
              "\n",
              "    .dataframe thead th {\n",
              "        text-align: right;\n",
              "    }\n",
              "</style>\n",
              "<table border=\"1\" class=\"dataframe\">\n",
              "  <thead>\n",
              "    <tr style=\"text-align: right;\">\n",
              "      <th></th>\n",
              "      <th>Film</th>\n",
              "      <th>Years</th>\n",
              "      <th>Awards</th>\n",
              "      <th>Nominations</th>\n",
              "    </tr>\n",
              "  </thead>\n",
              "  <tbody>\n",
              "    <tr>\n",
              "      <th>1322</th>\n",
              "      <td>World Without Sun</td>\n",
              "      <td>1964</td>\n",
              "      <td>1</td>\n",
              "      <td>1</td>\n",
              "    </tr>\n",
              "    <tr>\n",
              "      <th>1323</th>\n",
              "      <td>Wrestling Swordfish</td>\n",
              "      <td>32</td>\n",
              "      <td>1</td>\n",
              "      <td>1</td>\n",
              "    </tr>\n",
              "    <tr>\n",
              "      <th>1324</th>\n",
              "      <td>Written on the Wind</td>\n",
              "      <td>1956</td>\n",
              "      <td>1</td>\n",
              "      <td>3</td>\n",
              "    </tr>\n",
              "    <tr>\n",
              "      <th>1325</th>\n",
              "      <td>Wuthering Heights</td>\n",
              "      <td>1939</td>\n",
              "      <td>1</td>\n",
              "      <td>8</td>\n",
              "    </tr>\n",
              "    <tr>\n",
              "      <th>1326</th>\n",
              "      <td>Yankee Doodle Dandy</td>\n",
              "      <td>1942</td>\n",
              "      <td>3</td>\n",
              "      <td>8</td>\n",
              "    </tr>\n",
              "    <tr>\n",
              "      <th>1327</th>\n",
              "      <td>The Yankee Doodle Mouse</td>\n",
              "      <td>1943</td>\n",
              "      <td>1</td>\n",
              "      <td>1</td>\n",
              "    </tr>\n",
              "    <tr>\n",
              "      <th>1328</th>\n",
              "      <td>The Yearling</td>\n",
              "      <td>1946</td>\n",
              "      <td>2</td>\n",
              "      <td>7</td>\n",
              "    </tr>\n",
              "    <tr>\n",
              "      <th>1329</th>\n",
              "      <td>Yesterday, Today and Tomorrow</td>\n",
              "      <td>1964</td>\n",
              "      <td>1</td>\n",
              "      <td>1</td>\n",
              "    </tr>\n",
              "    <tr>\n",
              "      <th>1330</th>\n",
              "      <td>You Can't Take It with You</td>\n",
              "      <td>1938</td>\n",
              "      <td>2</td>\n",
              "      <td>7</td>\n",
              "    </tr>\n",
              "    <tr>\n",
              "      <th>1331</th>\n",
              "      <td>Zorba the Greek</td>\n",
              "      <td>1964</td>\n",
              "      <td>3</td>\n",
              "      <td>7</td>\n",
              "    </tr>\n",
              "  </tbody>\n",
              "</table>\n",
              "</div>"
            ],
            "text/plain": [
              "                               Film Years Awards Nominations\n",
              "1322              World Without Sun  1964      1           1\n",
              "1323            Wrestling Swordfish    32      1           1\n",
              "1324            Written on the Wind  1956      1           3\n",
              "1325              Wuthering Heights  1939      1           8\n",
              "1326            Yankee Doodle Dandy  1942      3           8\n",
              "1327        The Yankee Doodle Mouse  1943      1           1\n",
              "1328                   The Yearling  1946      2           7\n",
              "1329  Yesterday, Today and Tomorrow  1964      1           1\n",
              "1330     You Can't Take It with You  1938      2           7\n",
              "1331                Zorba the Greek  1964      3           7"
            ]
          },
          "metadata": {
            "tags": []
          },
          "execution_count": 16
        }
      ]
    }
  ]
}